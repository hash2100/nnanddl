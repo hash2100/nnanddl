{
 "cells": [
  {
   "cell_type": "markdown",
   "metadata": {
    "deletable": true,
    "editable": true
   },
   "source": [
    "## Background info\n",
    "* Launched by Google in November 2015\n",
    "* System used in Research, production and education\n",
    "* Not the only DL-targetting system; Caffe, DL4J, Theano, Torch, ...\n",
    "* License: Apache 2.0 open source license\n",
    "* Under active development; currently at version 0.12.1\n",
    "* Release details: https://github.com/tensorflow/tensorflow/blob/master/RELEASE.md\n",
    "* Some releases add breaking changes :(, so you might find deprecated tutorials\n",
    "* Runs on:\n",
    "    * CPUs\n",
    "    * GPUs (multiple GPU's on the same machine); both CPU and GPU at the same time\n",
    "    * TPUs ([TPU Description](http://www.tomshardware.com/news/google-tensor-processing-unit-machine-learning,31834.html TPU Description))\n",
    "        * TPU: ASIC\n",
    "        ![Image](https://encrypted-tbn1.gstatic.com/images?q=tbn:ANd9GcS30EgpoCTLDhIgWJcs6nxMdwRpSlm5eiAOcK3-kLqnQotOEfSA)\n",
    "* Resources:\n",
    "    * Official site: https://www.tensorflow.org/\n",
    "    * GitHub release: https://github.com/tensorflow/tensorflow; responsive community \n",
    "    * ML models ready to be used: https://github.com/tensorflow/models"
   ]
  },
  {
   "cell_type": "markdown",
   "metadata": {
    "deletable": true,
    "editable": true
   },
   "source": [
    "* Main points:\n",
    "    * solves the research/deployment dilemma: TF can be used for both (however, not the only model)\n",
    "    * usable for: numerical computation (main target; linear algebra, pointwise function computation), ML (both shallow and deep architectures), calculus (auto-differentiation support added), ...\n",
    "    * platforms: Linux, Windows\n",
    "    * supported devices: [Android](https://github.com/tensorflow/tensorflow/tree/master/tensorflow/examples/android), Raspberry Pi \n",
    "    * written in C++, with C++ and Python bindings\n",
    "    * **not** to provide out-of-the-box machine learning solutions, but `an extensive suite of functions and classes that allow users to define models from scratch mathematically`\n",
    "        * hence: one has to kno ML internals to be able to implement (even classical) models\n",
    "    * declarative approach: one defines the graph of computations"
   ]
  },
  {
   "cell_type": "markdown",
   "metadata": {
    "deletable": true,
    "editable": true
   },
   "source": [
    "## Tensorflow components\n",
    "* Tensorflow: the API, callable from C++ and Python\n",
    "* TensorBoard: visual exploration of TF models; statistics, training analysis, debugging\n",
    "* TensorFlow Serving: deployment of pre-trained TF models "
   ]
  },
  {
   "cell_type": "markdown",
   "metadata": {
    "deletable": true,
    "editable": true
   },
   "source": [
    "## TF Computation model\n",
    "* Each model is a directed graph\n",
    "    * nodes = operations\n",
    "    * edges = number/matrices/**tensors**\n",
    "    * Tensor: $k$-dimensional matrix; \n",
    "        * a scalar is a 0d tensor\n",
    "        * a vector is a 1d tensor\n",
    "        * a matrix is a 2d tensor\n",
    "    [![Why do I need tensors?](http://img.youtube.com/vi/f5liqUk0ZTw/0.jpg)](https://www.youtube.com/watch?v=f5liqUk0ZTw \"What's a Tensor?\")\n",
    "    * Tensor example: ![Tensor image](imgs/mnist_tensor.png)\n",
    "    * Computation graph: ![title](imgs/graph1.png)    "
   ]
  },
  {
   "cell_type": "markdown",
   "metadata": {
    "deletable": true,
    "editable": true
   },
   "source": [
    "## TF Installation\n",
    "* Install Python 2.7/3.3+; Anaconda distribution works great for this\n",
    "* Install TF:\n",
    "    * [Main docu](https://www.tensorflow.org/versions/master/get_started/os_setup), e.g. with *installation environments* (recommended)\n",
    "    * Install from sources, with Bazel\n",
    "    * w/o GPU support, prebuilt binaries: \n",
    "    \n",
    "    `pip install tensorflow`\n",
    "    \n",
    "    `pip install --proxy=194.138.0.3:9400 tensorflow`\n",
    "    \n",
    "    * with GPU support, CUDA compute capability 3.5+, [See CUDA list here](https://en.wikipedia.org/wiki/CUDA#), prebuilt binaries:\n",
    "    \n",
    "        `pip install tensorflow-gpu` \n",
    "        \n",
    "        > there are pre-built binaries for TensorFlow with GPU support, but they require specific versions of NVIDIA software and are incompatible with future versions"
   ]
  },
  {
   "cell_type": "markdown",
   "metadata": {
    "deletable": true,
    "editable": true
   },
   "source": [
    "## Demo 1: Generating random values in TF"
   ]
  },
  {
   "cell_type": "code",
   "execution_count": 1,
   "metadata": {
    "collapsed": true,
    "deletable": true,
    "editable": true
   },
   "outputs": [],
   "source": [
    "#get matplotlib graphics to show up inline\n",
    "%matplotlib inline \n",
    "import tensorflow as tf\n",
    "import numpy as np\n",
    "import matplotlib.pyplot as plt"
   ]
  },
  {
   "cell_type": "code",
   "execution_count": 2,
   "metadata": {
    "collapsed": false,
    "deletable": true,
    "editable": true
   },
   "outputs": [
    {
     "name": "stdout",
     "output_type": "stream",
     "text": [
      "a is: <class 'tensorflow.python.framework.ops.Tensor'>\n"
     ]
    }
   ],
   "source": [
    "a = tf.random_normal([2, 100000], name='a')\n",
    "print('a is:', type(a))"
   ]
  },
  {
   "cell_type": "code",
   "execution_count": 3,
   "metadata": {
    "collapsed": true,
    "deletable": true,
    "editable": true
   },
   "outputs": [],
   "source": [
    "sess = tf.Session() #the hard work is done by a TF session\n",
    "summary_writer = tf.summary.FileWriter('d:/temp/tensorboard/random_numbers', sess.graph)"
   ]
  },
  {
   "cell_type": "code",
   "execution_count": 4,
   "metadata": {
    "collapsed": false,
    "deletable": true,
    "editable": true
   },
   "outputs": [
    {
     "name": "stdout",
     "output_type": "stream",
     "text": [
      "out is:  <class 'numpy.ndarray'>\n",
      "out's shape:  (2, 100000)\n"
     ]
    }
   ],
   "source": [
    "out = sess.run(a) #evaluate the graph, that is: node 'a'\n",
    "print('out is: ', type(out))\n",
    "print(\"out's shape: \", out.shape)"
   ]
  },
  {
   "cell_type": "code",
   "execution_count": 5,
   "metadata": {
    "collapsed": true,
    "deletable": true,
    "editable": true
   },
   "outputs": [],
   "source": [
    "x, y = out"
   ]
  },
  {
   "cell_type": "code",
   "execution_count": 6,
   "metadata": {
    "collapsed": false,
    "deletable": true,
    "editable": true
   },
   "outputs": [
    {
     "data": {
      "image/png": "[encoded data removed]",
      "text/plain": [
       "<matplotlib.figure.Figure at 0xd1f2f28>"
      ]
     },
     "metadata": {},
     "output_type": "display_data"
    }
   ],
   "source": [
    "plt.scatter(x, y)\n",
    "plt.show()"
   ]
  },
  {
   "cell_type": "code",
   "execution_count": 7,
   "metadata": {
    "collapsed": true,
    "deletable": true,
    "editable": true
   },
   "outputs": [],
   "source": [
    "summary_writer.close()\n",
    "sess.close() #release resources"
   ]
  },
  {
   "cell_type": "markdown",
   "metadata": {
    "deletable": true,
    "editable": true
   },
   "source": [
    "## Demo 2: a simple graph + visualization in TensorBoard"
   ]
  },
  {
   "cell_type": "markdown",
   "metadata": {
    "deletable": true,
    "editable": true
   },
   "source": [
    "![title](imgs/graph1.png)   "
   ]
  },
  {
   "cell_type": "code",
   "execution_count": 10,
   "metadata": {
    "collapsed": false,
    "deletable": true,
    "editable": true
   },
   "outputs": [
    {
     "name": "stdout",
     "output_type": "stream",
     "text": [
      "Tensor(\"input_a_1:0\", shape=(), dtype=int32)\n"
     ]
    }
   ],
   "source": [
    "a = tf.constant(5, name=\"input_a\")\n",
    "b = tf.constant(3, name = \"input_b\")\n",
    "c = tf.multiply(a, b, name = \"multiply_a\")\n",
    "d = tf.add(a, b, name = \"sum_d\")\n",
    "e = tf.add(c, d, name=\"add_e\")\n",
    "print(a)"
   ]
  },
  {
   "cell_type": "code",
   "execution_count": 11,
   "metadata": {
    "collapsed": false,
    "deletable": true,
    "editable": true
   },
   "outputs": [
    {
     "data": {
      "text/plain": [
       "23"
      ]
     },
     "execution_count": 11,
     "metadata": {},
     "output_type": "execute_result"
    }
   ],
   "source": [
    "sess = tf.Session()\n",
    "writer = tf.summary.FileWriter('d:/temp/tensorboard/simple_graph', sess.graph)\n",
    "sess.run(e)"
   ]
  },
  {
   "cell_type": "code",
   "execution_count": 12,
   "metadata": {
    "collapsed": true,
    "deletable": true,
    "editable": true
   },
   "outputs": [],
   "source": [
    "writer.close()\n",
    "sess.close()"
   ]
  },
  {
   "cell_type": "markdown",
   "metadata": {
    "deletable": true,
    "editable": true
   },
   "source": [
    "To see the TF graph, run: \n",
    "\n",
    "```tensorboard --logdir=d:/temp/tensorboard/simple_graph```\n",
    "\n",
    "If you want to see the graph directly in the notebook, see function show_graph in [DeepDreaming with TensorFlow]( http://nbviewer.jupyter.org/github/tensorflow/tensorflow/blob/master/tensorflow/examples/tutorials/deepdream/deepdream.ipynb) notebook"
   ]
  },
  {
   "cell_type": "markdown",
   "metadata": {
    "deletable": true,
    "editable": true
   },
   "source": [
    "### What if I want to merge the 2 input values into an 1d tensor? "
   ]
  },
  {
   "cell_type": "markdown",
   "metadata": {
    "deletable": true,
    "editable": true
   },
   "source": [
    "![title](imgs/graph2.png)  "
   ]
  },
  {
   "cell_type": "code",
   "execution_count": 13,
   "metadata": {
    "collapsed": false,
    "deletable": true,
    "editable": true
   },
   "outputs": [
    {
     "data": {
      "text/plain": [
       "23"
      ]
     },
     "execution_count": 13,
     "metadata": {},
     "output_type": "execute_result"
    }
   ],
   "source": [
    "a = tf.constant([5, 3], name=\"a_input\")\n",
    "b = tf.reduce_prod(a, name=\"b_prod\")\n",
    "c = tf.reduce_sum(a, name = \"c_sum\")\n",
    "d = tf.add(b, c, name = \"d_add\")\n",
    "sess = tf.Session()\n",
    "writer = tf.summary.FileWriter('d:/temp/tensorboard/simple_graph_2', sess.graph)\n",
    "sess.run(d)"
   ]
  },
  {
   "cell_type": "markdown",
   "metadata": {
    "collapsed": true,
    "deletable": true,
    "editable": true
   },
   "source": [
    "## Demo: linear regression\n",
    "Code: [https://www.tensorflow.org/get_started/](https://www.tensorflow.org/get_started/)"
   ]
  },
  {
   "cell_type": "code",
   "execution_count": 2,
   "metadata": {
    "collapsed": true,
    "deletable": true,
    "editable": true
   },
   "outputs": [],
   "source": [
    "# Create 100 data points in NumPy, y = x * 0.1 + 0.3; the training dataset\n",
    "x_data = np.random.rand(100).astype(np.float32)\n",
    "y_data = x_data * 15 + 0.3"
   ]
  },
  {
   "cell_type": "code",
   "execution_count": 3,
   "metadata": {
    "collapsed": false,
    "deletable": true,
    "editable": true
   },
   "outputs": [
    {
     "name": "stdout",
     "output_type": "stream",
     "text": [
      "<class 'tensorflow.python.framework.ops.Tensor'>\n"
     ]
    }
   ],
   "source": [
    "# Try to find values for W and b that compute y_data = W * x_data + b\n",
    "# (We know that W should be 0.1 and b 0.3, but TensorFlow will\n",
    "# figure that out for us.)\n",
    "W = tf.Variable(tf.random_uniform([1], -1.0, 1.0), name='W')\n",
    "b = tf.Variable(tf.zeros([1]), name='b')\n",
    "y = W * x_data + b\n",
    "print(type(y))"
   ]
  },
  {
   "cell_type": "code",
   "execution_count": 4,
   "metadata": {
    "collapsed": false,
    "deletable": true,
    "editable": true
   },
   "outputs": [
    {
     "name": "stdout",
     "output_type": "stream",
     "text": [
      "('loss type:\\t', <class 'tensorflow.python.framework.ops.Tensor'>)\n"
     ]
    }
   ],
   "source": [
    "loss = tf.reduce_mean(tf.square(y - y_data, name='my_square'), name='my_loss')\n",
    "print(\"loss type:\\t\", type(loss))"
   ]
  },
  {
   "cell_type": "code",
   "execution_count": 5,
   "metadata": {
    "collapsed": false,
    "deletable": true,
    "editable": true
   },
   "outputs": [
    {
     "name": "stdout",
     "output_type": "stream",
     "text": [
      "('optimizer type:\\t', <class 'tensorflow.python.training.gradient_descent.GradientDescentOptimizer'>)\n"
     ]
    }
   ],
   "source": [
    "optimizer = tf.train.GradientDescentOptimizer(0.5, name='my_optimizer')\n",
    "print(\"optimizer type:\\t\", type(optimizer))"
   ]
  },
  {
   "cell_type": "code",
   "execution_count": 6,
   "metadata": {
    "collapsed": false,
    "deletable": true,
    "editable": true
   },
   "outputs": [
    {
     "name": "stdout",
     "output_type": "stream",
     "text": [
      "('train type:\\t', <class 'tensorflow.python.framework.ops.Operation'>)\n"
     ]
    }
   ],
   "source": [
    "train = optimizer.minimize(loss, name='my_train')\n",
    "print(\"train type:\\t\", type(train))"
   ]
  },
  {
   "cell_type": "code",
   "execution_count": 7,
   "metadata": {
    "collapsed": false,
    "deletable": true,
    "editable": true
   },
   "outputs": [
    {
     "name": "stdout",
     "output_type": "stream",
     "text": [
      "('init type:\\t', <class 'tensorflow.python.framework.ops.Operation'>)\n"
     ]
    }
   ],
   "source": [
    "init = tf.global_variables_initializer()\n",
    "print(\"init type:\\t\", type(init))"
   ]
  },
  {
   "cell_type": "code",
   "execution_count": 8,
   "metadata": {
    "collapsed": true,
    "deletable": true,
    "editable": true
   },
   "outputs": [],
   "source": [
    "# Launch the graph.\n",
    "sess = tf.Session()\n",
    "sess.run(init)\n",
    "summary_writer = tf.summary.FileWriter('d:/temp/tensorboard/linear_regression', sess.graph)"
   ]
  },
  {
   "cell_type": "code",
   "execution_count": 9,
   "metadata": {
    "collapsed": false,
    "deletable": true,
    "editable": true
   },
   "outputs": [
    {
     "name": "stdout",
     "output_type": "stream",
     "text": [
      "(0, array([ 5.91367912], dtype=float32), array([ 8.18579292], dtype=float32))\n",
      "(20, array([ 11.95145702], dtype=float32), array([ 2.04640007], dtype=float32))\n",
      "(40, array([ 14.09264183], dtype=float32), array([ 0.81979322], dtype=float32))\n",
      "(60, array([ 14.72993755], dtype=float32), array([ 0.45470962], dtype=float32))\n",
      "(80, array([ 14.91961956], dtype=float32), array([ 0.34604728], dtype=float32))\n",
      "(100, array([ 14.97607613], dtype=float32), array([ 0.31370518], dtype=float32))\n",
      "(120, array([ 14.99287891], dtype=float32), array([ 0.30407923], dtype=float32))\n",
      "(140, array([ 14.99788094], dtype=float32), array([ 0.30121437], dtype=float32))\n",
      "(160, array([ 14.99936867], dtype=float32), array([ 0.30036163], dtype=float32))\n",
      "(180, array([ 14.99981213], dtype=float32), array([ 0.30010757], dtype=float32))\n",
      "(200, array([ 14.99994469], dtype=float32), array([ 0.30003229], dtype=float32))\n"
     ]
    }
   ],
   "source": [
    "# Fit the line.\n",
    "for step in range(201):\n",
    "    sess.run(train)\n",
    "    if step % 20 == 0:\n",
    "        print(step, sess.run(W), sess.run(b))"
   ]
  },
  {
   "cell_type": "code",
   "execution_count": null,
   "metadata": {
    "collapsed": true,
    "deletable": true,
    "editable": true
   },
   "outputs": [],
   "source": []
  }
 ],
 "metadata": {
  "anaconda-cloud": {},
  "kernelspec": {
   "display_name": "Python 2",
   "language": "python",
   "name": "python2"
  },
  "language_info": {
   "codemirror_mode": {
    "name": "ipython",
    "version": 2
   },
   "file_extension": ".py",
   "mimetype": "text/x-python",
   "name": "python",
   "nbconvert_exporter": "python",
   "pygments_lexer": "ipython2",
   "version": "2.7.12"
  }
 },
 "nbformat": 4,
 "nbformat_minor": 2
}
