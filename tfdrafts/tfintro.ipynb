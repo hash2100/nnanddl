{
 "cells": [
  {
   "cell_type": "code",
   "execution_count": 5,
   "metadata": {
    "collapsed": true
   },
   "outputs": [],
   "source": [
    "import tensorflow as tf\n",
    "from __future__ import print_function\n",
    "\n",
    "a = tf.placeholder(tf.float32)\n",
    "b = tf.placeholder(tf.float32)\n",
    "adder_node = a + b  # + provides a shortcut for tf.add(a, b)\n",
    "add_and_triple = adder_node * 3"
   ]
  },
  {
   "cell_type": "code",
   "execution_count": 7,
   "metadata": {},
   "outputs": [
    {
     "name": "stdout",
     "output_type": "stream",
     "text": [
      "[  9.   22.5]\n"
     ]
    }
   ],
   "source": [
    "sess = tf.Session()\n",
    "print(sess.run(add_and_triple, {a: [1, 3], b: [2, 4.5]}))"
   ]
  },
  {
   "cell_type": "code",
   "execution_count": 9,
   "metadata": {},
   "outputs": [],
   "source": [
    "W = tf.Variable([0.3], dtype = tf.float32)\n",
    "b = tf.Variable([-0.3], dtype = tf.float32)\n",
    "x = tf.placeholder(tf.float32)\n",
    "linear_model = W*x + b\n",
    "\n",
    "init = tf.global_variables_initializer()\n",
    "sess.run(init)"
   ]
  },
  {
   "cell_type": "code",
   "execution_count": 10,
   "metadata": {},
   "outputs": [
    {
     "name": "stdout",
     "output_type": "stream",
     "text": [
      "[ 0.          0.30000001  0.60000002  0.90000004]\n"
     ]
    }
   ],
   "source": [
    "print(sess.run(linear_model, {x: [1, 2, 3, 4]}))\n"
   ]
  },
  {
   "cell_type": "code",
   "execution_count": 11,
   "metadata": {},
   "outputs": [
    {
     "name": "stdout",
     "output_type": "stream",
     "text": [
      "23.66\n"
     ]
    }
   ],
   "source": [
    "y = tf.placeholder(tf.float32)\n",
    "squared_deltas = tf.square(linear_model - y)\n",
    "loss = tf.reduce_sum(squared_deltas)\n",
    "print(sess.run(loss, {x: [1, 2, 3, 4], y: [0, -1, -2, -3]}))"
   ]
  },
  {
   "cell_type": "code",
   "execution_count": 12,
   "metadata": {},
   "outputs": [
    {
     "name": "stdout",
     "output_type": "stream",
     "text": [
      "0.0\n"
     ]
    }
   ],
   "source": [
    "fixW = tf.assign(W, [-1.])\n",
    "fixb = tf.assign(b, [1.])\n",
    "sess.run([fixW, fixb])\n",
    "print(sess.run(loss, {x: [1, 2, 3, 4], y: [0, -1, -2, -3]}))"
   ]
  },
  {
   "cell_type": "code",
   "execution_count": 20,
   "metadata": {},
   "outputs": [
    {
     "name": "stdout",
     "output_type": "stream",
     "text": [
      "[array([ 0.30000001], dtype=float32), array([-0.30000001], dtype=float32)]\n",
      "[array([-0.9999969], dtype=float32), array([ 0.99999082], dtype=float32)]\n"
     ]
    }
   ],
   "source": [
    "optimizer = tf.train.GradientDescentOptimizer(0.01)\n",
    "train = optimizer.minimize(loss)\n",
    "sess.run(init)\n",
    "print(sess.run([W, b]))\n",
    "\n",
    "for i in range(1000):\n",
    "    sess.run(train, {x: [1, 2, 3, 4], y: [0, -1, -2, -3]})\n",
    "    \n",
    "print(sess.run([W, b]))"
   ]
  },
  {
   "cell_type": "markdown",
   "metadata": {},
   "source": [
    "# The complete code"
   ]
  },
  {
   "cell_type": "code",
   "execution_count": 22,
   "metadata": {},
   "outputs": [],
   "source": [
    "import tensorflow as tf\n",
    "\n",
    "# model parameters\n",
    "W = tf.Variable([0.3], dtype = tf.float32)\n",
    "b = tf.Variable([-0.3], dtype = tf.float32)\n",
    "\n",
    "# Model input and output\n",
    "x = tf.placeholder(tf.float32)\n",
    "linear_model = W*x + b\n",
    "y = tf.placeholder(tf.float32)\n",
    "\n",
    "# loss\n",
    "loss = tf.reduce_sum(tf.square(linear_model - y))\n",
    "\n",
    "# optimizer\n",
    "optimizer = tf.train.GradientDescentOptimizer(0.01)\n",
    "train = optimizer.minimize(loss)\n",
    "\n",
    "# training data\n",
    "x_train = [1, 2, 3, 4]\n",
    "y_train = [0, -1, -2, -3]"
   ]
  },
  {
   "cell_type": "code",
   "execution_count": 23,
   "metadata": {},
   "outputs": [
    {
     "name": "stdout",
     "output_type": "stream",
     "text": [
      "W: [-0.9999969] b: [ 0.99999082] loss: 5.69997e-11\n"
     ]
    }
   ],
   "source": [
    "# training loop\n",
    "init = tf.global_variables_initializer()\n",
    "sess = tf.Session()\n",
    "\n",
    "# reset variable values\n",
    "sess.run(init)\n",
    "\n",
    "for i in range(1000):\n",
    "    sess.run(train, {x: x_train, y: y_train})\n",
    "\n",
    "# evaluate training accuracy\n",
    "curr_W, curr_b, curr_loss = sess.run([W, b, loss], {x: x_train, y: y_train})\n",
    "print(\"W: %s b: %s loss: %s\" % (curr_W, curr_b, curr_loss))\n"
   ]
  },
  {
   "cell_type": "markdown",
   "metadata": {},
   "source": [
    "# Working with Estimator "
   ]
  },
  {
   "cell_type": "code",
   "execution_count": 25,
   "metadata": {},
   "outputs": [
    {
     "name": "stdout",
     "output_type": "stream",
     "text": [
      "INFO:tensorflow:Using default config.\n",
      "WARNING:tensorflow:Using temporary folder as model directory: C:\\Users\\ro1v0362\\AppData\\Local\\Temp\\tmpo1134uoo\n",
      "INFO:tensorflow:Using config: {'_model_dir': 'C:\\\\Users\\\\ro1v0362\\\\AppData\\\\Local\\\\Temp\\\\tmpo1134uoo', '_tf_random_seed': None, '_save_summary_steps': 100, '_save_checkpoints_steps': None, '_save_checkpoints_secs': 600, '_session_config': None, '_keep_checkpoint_max': 5, '_keep_checkpoint_every_n_hours': 10000, '_log_step_count_steps': 100, '_service': None, '_cluster_spec': <tensorflow.python.training.server_lib.ClusterSpec object at 0x0000000005BC2278>, '_task_type': 'worker', '_task_id': 0, '_master': '', '_is_chief': True, '_num_ps_replicas': 0, '_num_worker_replicas': 1}\n"
     ]
    }
   ],
   "source": [
    "import numpy as np\n",
    "import tensorflow as tf\n",
    "\n",
    "# declare list of features\n",
    "feature_columns = [tf.feature_column.numeric_column(\"x\", shape = [1])]\n",
    "\n",
    "# provide an estimator for the linear regression\n",
    "estimator = tf.estimator.LinearRegressor(feature_columns = feature_columns)\n",
    "\n",
    "# define two data sets: training and evaluation\n",
    "x_train = np.array([1., 2., 3., 4.])\n",
    "y_train = np.array([0., -1., -2., -3.])\n",
    "x_eval = np.array([2., 5., 8., 1.])\n",
    "y_eval = np.array([-1.01, -4.1, -7, 0.])\n",
    "\n",
    "# set up number of batches and the size of each batch\n",
    "input_fn = tf.estimator.inputs.numpy_input_fn(\n",
    "    {\"x\": x_train}, y_train, batch_size = 4, num_epochs = None, shuffle = True)\n",
    "train_input_fn = tf.estimator.inputs.numpy_input_fn(\n",
    "    {\"x\": x_train}, y_train, batch_size = 4, num_epochs = 1000, shuffle = False)\n",
    "eval_input_fn = tf.estimator.inputs.numpy_input_fn(\n",
    "    {\"x\": x_eval}, y_eval, batch_size = 4, num_epochs = 1000, shuffle = False)"
   ]
  },
  {
   "cell_type": "code",
   "execution_count": 26,
   "metadata": {},
   "outputs": [
    {
     "name": "stdout",
     "output_type": "stream",
     "text": [
      "INFO:tensorflow:Create CheckpointSaverHook.\n",
      "INFO:tensorflow:Saving checkpoints for 1 into C:\\Users\\ro1v0362\\AppData\\Local\\Temp\\tmpo1134uoo\\model.ckpt.\n",
      "INFO:tensorflow:loss = 5.0, step = 1\n",
      "INFO:tensorflow:global_step/sec: 263.852\n",
      "INFO:tensorflow:loss = 0.259836, step = 101 (0.380 sec)\n",
      "INFO:tensorflow:global_step/sec: 261.78\n",
      "INFO:tensorflow:loss = 0.0334541, step = 201 (0.379 sec)\n",
      "INFO:tensorflow:global_step/sec: 280.899\n",
      "INFO:tensorflow:loss = 0.00229999, step = 301 (0.358 sec)\n",
      "INFO:tensorflow:global_step/sec: 330.033\n",
      "INFO:tensorflow:loss = 0.000432747, step = 401 (0.304 sec)\n",
      "INFO:tensorflow:global_step/sec: 369.003\n",
      "INFO:tensorflow:loss = 3.26236e-05, step = 501 (0.271 sec)\n",
      "INFO:tensorflow:global_step/sec: 280.899\n",
      "INFO:tensorflow:loss = 1.20888e-05, step = 601 (0.355 sec)\n",
      "INFO:tensorflow:global_step/sec: 354.61\n",
      "INFO:tensorflow:loss = 6.9366e-07, step = 701 (0.282 sec)\n",
      "INFO:tensorflow:global_step/sec: 317.461\n",
      "INFO:tensorflow:loss = 2.90783e-07, step = 801 (0.314 sec)\n",
      "INFO:tensorflow:global_step/sec: 255.754\n",
      "INFO:tensorflow:loss = 1.07605e-08, step = 901 (0.392 sec)\n",
      "INFO:tensorflow:Saving checkpoints for 1000 into C:\\Users\\ro1v0362\\AppData\\Local\\Temp\\tmpo1134uoo\\model.ckpt.\n",
      "INFO:tensorflow:Loss for final step: 6.96332e-11.\n"
     ]
    },
    {
     "data": {
      "text/plain": [
       "<tensorflow.python.estimator.canned.linear.LinearRegressor at 0x1c43de80>"
      ]
     },
     "execution_count": 26,
     "metadata": {},
     "output_type": "execute_result"
    }
   ],
   "source": [
    "# invoke the 1000 training steps by invoking the method and passing the training set\n",
    "estimator.train(input_fn = input_fn, steps = 1000)"
   ]
  },
  {
   "cell_type": "code",
   "execution_count": 27,
   "metadata": {},
   "outputs": [
    {
     "name": "stdout",
     "output_type": "stream",
     "text": [
      "INFO:tensorflow:Starting evaluation at 2017-11-09-14:56:07\n",
      "INFO:tensorflow:Restoring parameters from C:\\Users\\ro1v0362\\AppData\\Local\\Temp\\tmpo1134uoo\\model.ckpt-1000\n",
      "INFO:tensorflow:Finished evaluation at 2017-11-09-14:56:08\n",
      "INFO:tensorflow:Saving dict for global step 1000: average_loss = 6.69805e-10, global_step = 1000, loss = 2.67922e-09\n",
      "INFO:tensorflow:Starting evaluation at 2017-11-09-14:56:09\n",
      "INFO:tensorflow:Restoring parameters from C:\\Users\\ro1v0362\\AppData\\Local\\Temp\\tmpo1134uoo\\model.ckpt-1000\n",
      "INFO:tensorflow:Finished evaluation at 2017-11-09-14:56:11\n",
      "INFO:tensorflow:Saving dict for global step 1000: average_loss = 0.00252724, global_step = 1000, loss = 0.0101089\n",
      "train metrics: {'average_loss': 6.6980499e-10, 'loss': 2.67922e-09, 'global_step': 1000}\n",
      "eval metrics: {'average_loss': 0.0025272358, 'loss': 0.010108943, 'global_step': 1000}\n"
     ]
    }
   ],
   "source": [
    "# evaluate how well the model did\n",
    "train_metrics = estimator.evaluate(input_fn = train_input_fn)\n",
    "eval_metrics = estimator.evaluate(input_fn = eval_input_fn)\n",
    "print(\"train metrics: %r\" % train_metrics)\n",
    "print(\"eval metrics: %r\" % eval_metrics)"
   ]
  },
  {
   "cell_type": "markdown",
   "metadata": {},
   "source": [
    "# Estimator with custom model"
   ]
  },
  {
   "cell_type": "code",
   "execution_count": 28,
   "metadata": {},
   "outputs": [
    {
     "name": "stdout",
     "output_type": "stream",
     "text": [
      "INFO:tensorflow:Using default config.\n",
      "WARNING:tensorflow:Using temporary folder as model directory: C:\\Users\\ro1v0362\\AppData\\Local\\Temp\\tmpenfl_y4o\n",
      "INFO:tensorflow:Using config: {'_model_dir': 'C:\\\\Users\\\\ro1v0362\\\\AppData\\\\Local\\\\Temp\\\\tmpenfl_y4o', '_tf_random_seed': None, '_save_summary_steps': 100, '_save_checkpoints_steps': None, '_save_checkpoints_secs': 600, '_session_config': None, '_keep_checkpoint_max': 5, '_keep_checkpoint_every_n_hours': 10000, '_log_step_count_steps': 100, '_service': None, '_cluster_spec': <tensorflow.python.training.server_lib.ClusterSpec object at 0x000000001C3FB550>, '_task_type': 'worker', '_task_id': 0, '_master': '', '_is_chief': True, '_num_ps_replicas': 0, '_num_worker_replicas': 1}\n"
     ]
    }
   ],
   "source": [
    "import numpy as np\n",
    "import tensorflow as tf\n",
    "\n",
    "# declare the model\n",
    "def model_fn(features, labels, mode):\n",
    "    # build the linear model\n",
    "    W = tf.get_variable(\"W\", [1], dtype = tf.float64)\n",
    "    b = tf.get_variable(\"b\", [1], dtype = tf.float64)\n",
    "    y = W * features['x'] + b\n",
    "    \n",
    "    # loss sub-graph\n",
    "    loss = tf.reduce_sum(tf.square(y - labels))\n",
    "    \n",
    "    # trainig sub-graph\n",
    "    global_step = tf.train.get_global_step()\n",
    "    optimizer = tf.train.GradientDescentOptimizer(0.01)\n",
    "    train = tf.group(\n",
    "        optimizer.minimize(loss), \n",
    "        tf.assign_add(global_step, 1)\n",
    "    )\n",
    "    \n",
    "    # connect estimator with appropriate functionality\n",
    "    return tf.estimator.EstimatorSpec(\n",
    "        mode=mode,\n",
    "        predictions=y,\n",
    "        loss=loss,\n",
    "        train_op=train\n",
    "    )\n",
    "\n",
    "estimator = tf.estimator.Estimator(model_fn=model_fn)\n",
    "# define data sets\n",
    "x_train = np.array([1., 2., 3., 4.])\n",
    "y_train = np.array([0., -1., -2., -3.])\n",
    "x_eval = np.array([2., 5., 8., 1.])\n",
    "y_eval = np.array([-1.01, -4.1, -7., 0.])\n",
    "input_fn = tf.estimator.inputs.numpy_input_fn(\n",
    "    {\"x\": x_train}, y_train, batch_size=4, num_epochs=None, shuffle=True)\n",
    "train_input_fn = tf.estimator.inputs.numpy_input_fn(\n",
    "    {\"x\": x_train}, y_train, batch_size=4, num_epochs=1000, shuffle=False)\n",
    "eval_input_fn = tf.estimator.inputs.numpy_input_fn(\n",
    "    {\"x\": x_eval}, y_eval, batch_size=4, num_epochs=1000, shuffle=False)"
   ]
  },
  {
   "cell_type": "code",
   "execution_count": 29,
   "metadata": {},
   "outputs": [
    {
     "name": "stdout",
     "output_type": "stream",
     "text": [
      "INFO:tensorflow:Create CheckpointSaverHook.\n",
      "INFO:tensorflow:Saving checkpoints for 1 into C:\\Users\\ro1v0362\\AppData\\Local\\Temp\\tmpenfl_y4o\\model.ckpt.\n",
      "INFO:tensorflow:loss = 5.16443864802, step = 1\n",
      "INFO:tensorflow:global_step/sec: 323.625\n",
      "INFO:tensorflow:loss = 0.35670102562, step = 101 (0.309 sec)\n",
      "INFO:tensorflow:global_step/sec: 323.624\n",
      "INFO:tensorflow:loss = 0.0712856835038, step = 201 (0.310 sec)\n",
      "INFO:tensorflow:global_step/sec: 476.191\n",
      "INFO:tensorflow:loss = 0.00453609964355, step = 301 (0.209 sec)\n",
      "INFO:tensorflow:global_step/sec: 581.395\n",
      "INFO:tensorflow:loss = 0.000297850604731, step = 401 (0.172 sec)\n",
      "INFO:tensorflow:global_step/sec: 346.021\n",
      "INFO:tensorflow:loss = 1.28573547869e-05, step = 501 (0.289 sec)\n",
      "INFO:tensorflow:global_step/sec: 337.838\n",
      "INFO:tensorflow:loss = 3.20050054432e-06, step = 601 (0.294 sec)\n",
      "INFO:tensorflow:global_step/sec: 393.7\n",
      "INFO:tensorflow:loss = 2.03433312353e-07, step = 701 (0.254 sec)\n",
      "INFO:tensorflow:global_step/sec: 398.406\n",
      "INFO:tensorflow:loss = 2.80021668553e-08, step = 801 (0.254 sec)\n",
      "INFO:tensorflow:global_step/sec: 319.489\n",
      "INFO:tensorflow:loss = 4.85439231284e-10, step = 901 (0.314 sec)\n",
      "INFO:tensorflow:Saving checkpoints for 1000 into C:\\Users\\ro1v0362\\AppData\\Local\\Temp\\tmpenfl_y4o\\model.ckpt.\n",
      "INFO:tensorflow:Loss for final step: 1.12949502549e-10.\n"
     ]
    },
    {
     "data": {
      "text/plain": [
       "<tensorflow.python.estimator.estimator.Estimator at 0x1c3fb198>"
      ]
     },
     "execution_count": 29,
     "metadata": {},
     "output_type": "execute_result"
    }
   ],
   "source": [
    "# train\n",
    "estimator.train(input_fn=input_fn, steps=1000)"
   ]
  },
  {
   "cell_type": "code",
   "execution_count": 30,
   "metadata": {},
   "outputs": [
    {
     "name": "stdout",
     "output_type": "stream",
     "text": [
      "INFO:tensorflow:Starting evaluation at 2017-11-09-15:07:44\n",
      "INFO:tensorflow:Restoring parameters from C:\\Users\\ro1v0362\\AppData\\Local\\Temp\\tmpenfl_y4o\\model.ckpt-1000\n",
      "INFO:tensorflow:Finished evaluation at 2017-11-09-15:07:45\n",
      "INFO:tensorflow:Saving dict for global step 1000: global_step = 1000, loss = 1.39765e-10\n",
      "INFO:tensorflow:Starting evaluation at 2017-11-09-15:07:46\n",
      "INFO:tensorflow:Restoring parameters from C:\\Users\\ro1v0362\\AppData\\Local\\Temp\\tmpenfl_y4o\\model.ckpt-1000\n",
      "INFO:tensorflow:Finished evaluation at 2017-11-09-15:07:47\n",
      "INFO:tensorflow:Saving dict for global step 1000: global_step = 1000, loss = 0.0101023\n",
      "train metrics: {'loss': 1.3976525e-10, 'global_step': 1000}\n",
      "eval metrics: {'loss': 0.010102277, 'global_step': 1000}\n"
     ]
    }
   ],
   "source": [
    "# evaluate the model\n",
    "train_metrics = estimator.evaluate(input_fn=train_input_fn)\n",
    "eval_metrics = estimator.evaluate(input_fn=eval_input_fn)\n",
    "print(\"train metrics: %r\"% train_metrics)\n",
    "print(\"eval metrics: %r\"% eval_metrics)"
   ]
  },
  {
   "cell_type": "code",
   "execution_count": null,
   "metadata": {
    "collapsed": true
   },
   "outputs": [],
   "source": []
  }
 ],
 "metadata": {
  "kernelspec": {
   "display_name": "Python 3",
   "language": "python",
   "name": "python3"
  },
  "language_info": {
   "codemirror_mode": {
    "name": "ipython",
    "version": 3
   },
   "file_extension": ".py",
   "mimetype": "text/x-python",
   "name": "python",
   "nbconvert_exporter": "python",
   "pygments_lexer": "ipython3",
   "version": "3.6.2"
  }
 },
 "nbformat": 4,
 "nbformat_minor": 2
}
