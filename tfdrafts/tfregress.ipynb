{
 "cells": [
  {
   "cell_type": "code",
   "execution_count": 230,
   "metadata": {
    "collapsed": true
   },
   "outputs": [],
   "source": [
    "import tensorflow as tf\n",
    "import numpy as np\n",
    "import matplotlib.pyplot as plt\n",
    "\n",
    "%matplotlib inline"
   ]
  },
  {
   "cell_type": "markdown",
   "metadata": {
    "collapsed": true
   },
   "source": [
    "# Linear regression - first, without regularization"
   ]
  },
  {
   "cell_type": "code",
   "execution_count": 244,
   "metadata": {},
   "outputs": [
    {
     "name": "stdout",
     "output_type": "stream",
     "text": [
      "x: [1 2 3 4 5]\n",
      "y: [ 2.  3.  2.  4.  3.]\n"
     ]
    }
   ],
   "source": [
    "# we will take five points\n",
    "n = 6\n",
    "x = np.array(range(1, n))\n",
    "print('x: %s' % x)\n",
    "y = np.array([2, 3, 2, 4, 3])\n",
    "y = y.astype(np.float32)\n",
    "print('y: %s' % y)\n",
    "y_ = x/2 + 1.3\n",
    "\n",
    "# these are the points and the associated function value, y=f(x)"
   ]
  },
  {
   "cell_type": "code",
   "execution_count": 245,
   "metadata": {
    "scrolled": true
   },
   "outputs": [
    {
     "data": {
      "image/png": "[encoded data removed]",
      "text/plain": [
       "<matplotlib.figure.Figure at 0x36fdfc50>"
      ]
     },
     "metadata": {},
     "output_type": "display_data"
    }
   ],
   "source": [
    "plt.plot(x, y, 'o', x, y_, '-')\n",
    "plt.show()\n",
    "\n",
    "# the points somehow can be interpolated by a straight line, \n",
    "# so this is the kind of function we are looking for"
   ]
  },
  {
   "cell_type": "code",
   "execution_count": 246,
   "metadata": {},
   "outputs": [
    {
     "data": {
      "text/plain": [
       "<tf.Tensor 'ToFloat_97:0' shape=(5, 3) dtype=float32>"
      ]
     },
     "execution_count": 246,
     "metadata": {},
     "output_type": "execute_result"
    }
   ],
   "source": [
    "# actually our f(x) would not be a linear function, like a*x + b, \n",
    "# but we would be looking for some quadratic function f(x) = ax**2 + b*x + c\n",
    "\n",
    "# so here we construct the vector of x-es, where our function would be \n",
    "# evaluated as a dot product, f(x) = [1, x, x**2] . [c, b, a]\n",
    "x_ext = np.array([[1, x, x**2] for x in x])\n",
    "x_ext = tf.to_float(x_ext)\n",
    "\n",
    "# obtained x_ext would be actually a tensor of five rows (for each of the x-es)\n",
    "# and three columns (each being the transpose of [1, x, x**2])\n",
    "x_ext"
   ]
  },
  {
   "cell_type": "code",
   "execution_count": 250,
   "metadata": {},
   "outputs": [
    {
     "name": "stdout",
     "output_type": "stream",
     "text": [
      "loss: [207.90814]\n",
      "loss: [40.423882]\n",
      "loss: [19.725145]\n",
      "loss: [15.751569]\n",
      "loss: [15.32615]\n",
      "loss: [15.008891]\n",
      "loss: [14.645502]\n",
      "loss: [14.31254]\n",
      "loss: [14.096675]\n",
      "loss: [14.01433]\n"
     ]
    }
   ],
   "source": [
    "# no bias needed, since it is the first column\n",
    "# now allocate a TF variable in column vector shape, as many rows as\n",
    "# the second dimension of x_ext (these will be the [c, b, a] coeffs)\n",
    "W = tf.Variable(tf.zeros([np.shape(x_ext)[1], 1]), name=\"weights\")\n",
    "\n",
    "# calculate predicted values for all x-es\n",
    "y_predicted = tf.matmul(x_ext, W)\n",
    "\n",
    "# calculate MSE\n",
    "loss = tf.reduce_sum(tf.squared_difference(tf.to_float(y), y_predicted))\n",
    "\n",
    "# you can use either of them optimizers; however, \n",
    "# the AdamOptimizer (adaptive momentum) would converge faster\n",
    "#train_op = tf.train.GradientDescentOptimizer(learning_rate).minimize(loss)\n",
    "train_op = tf.train.AdamOptimizer(learning_rate=0.001).minimize(loss)\n",
    "\n",
    "with tf.Session() as sess:  \n",
    "    # it is essential that the initialization would be run _after_ the placement of AdamOptimizer\n",
    "    tf.global_variables_initializer().run()\n",
    "    \n",
    "    training_steps = 10000\n",
    "    for step in range(training_steps):\n",
    "        sess.run([train_op])\n",
    "        if step % 1000 == 0:\n",
    "            print(\"loss: %s\" % sess.run([loss]))            \n",
    "    # make the weights available outside the session\n",
    "    wghts = sess.run(W)"
   ]
  },
  {
   "cell_type": "code",
   "execution_count": 251,
   "metadata": {},
   "outputs": [],
   "source": [
    "# after computation stops, we see that the loss tends to remain fixed at 14 \n",
    "# and does not decrease significantly, hence we have overfitting\n",
    "# Note: actually, this is not entirely correct judgement; we would had to \n",
    "#       raise the train and validation curves and observe where the validation\n",
    "#       does not decrease any longer, but starts to grow (and stop there)\n",
    "\n",
    "# let's plot the computed weights, that is, our quadratic f(x)\n",
    "a = [x/100.0 for x in range(100, n*100, 1)]\n",
    "a_ext = np.array([[1, x, x**2] for x in a])\n",
    "b = np.matmul(a_ext, wghts)"
   ]
  },
  {
   "cell_type": "code",
   "execution_count": 252,
   "metadata": {},
   "outputs": [
    {
     "data": {
      "image/png": "[encoded data removed]",
      "text/plain": [
       "<matplotlib.figure.Figure at 0x36fb3748>"
      ]
     },
     "metadata": {},
     "output_type": "display_data"
    }
   ],
   "source": [
    "plt.plot(a, b, '-', x, y, 'o')\n",
    "plt.show()\n",
    "\n",
    "# you can see that the function tries to minimize the RMS error; coincidentally,\n",
    "# a horizontal line through the middle of the points does exacty that"
   ]
  },
  {
   "cell_type": "markdown",
   "metadata": {},
   "source": [
    "# Linear regression - now with regularization"
   ]
  },
  {
   "cell_type": "code",
   "execution_count": 253,
   "metadata": {},
   "outputs": [
    {
     "name": "stdout",
     "output_type": "stream",
     "text": [
      "loss: [207.90845]\n",
      "loss: [75.286781]\n",
      "loss: [75.157669]\n",
      "loss: [75.157616]\n",
      "loss: [75.157623]\n",
      "loss: [75.157616]\n",
      "loss: [75.157616]\n",
      "loss: [75.157623]\n",
      "loss: [75.157623]\n",
      "loss: [75.157616]\n"
     ]
    }
   ],
   "source": [
    "W = tf.Variable(tf.zeros([np.shape(x_ext)[1], 1]), name=\"weights\")\n",
    "\n",
    "y_predicted = tf.matmul(x_ext, W)\n",
    "lmbda = tf.constant(100.2)\n",
    "\n",
    "# we do not like that the function tries to perfectly minimize the error,\n",
    "# so we add a regularization term: lambda * norm(W)\n",
    "# thus, the loss function becomes:\n",
    "#\n",
    "# loss(x) = sum_i ((y_pred(i) - y)**2) + lambda * norm(W)\n",
    "# this tries to minimize also the weights chosen\n",
    "loss = tf.add(\n",
    "    tf.reduce_sum(tf.squared_difference(tf.to_float(y), y_predicted)),\n",
    "    tf.multiply(lmbda, tf.tensordot(W, W, [0, 0])[0, 0])\n",
    ")\n",
    "\n",
    "#train_op = tf.train.GradientDescentOptimizer(learning_rate).minimize(loss)\n",
    "train_op = tf.train.AdamOptimizer(learning_rate=0.001).minimize(loss)\n",
    "\n",
    "with tf.Session() as sess:    \n",
    "    tf.global_variables_initializer().run()\n",
    "    \n",
    "    training_steps = 10000\n",
    "    for step in range(training_steps):\n",
    "        sess.run([train_op])\n",
    "        if step % 1000 == 0:\n",
    "            print(\"loss: %s\" % sess.run([loss]))            \n",
    "    wghts = sess.run(W)"
   ]
  },
  {
   "cell_type": "code",
   "execution_count": 254,
   "metadata": {
    "collapsed": true
   },
   "outputs": [],
   "source": [
    "a = [x/100.0 for x in range(100, n*100, 1)]\n",
    "a_ext = np.array([[1, x, x**2] for x in a])\n",
    "b = np.matmul(a_ext, wghts)"
   ]
  },
  {
   "cell_type": "code",
   "execution_count": 256,
   "metadata": {},
   "outputs": [
    {
     "data": {
      "image/png": "[encoded data removed]",
      "text/plain": [
       "<matplotlib.figure.Figure at 0x323adbe0>"
      ]
     },
     "metadata": {},
     "output_type": "display_data"
    }
   ],
   "source": [
    "plt.plot(a, b, '-', x, y, 'o')\n",
    "plt.show()\n",
    "\n",
    "# this fits more likely the (expected) future points from x=6 onwards"
   ]
  },
  {
   "cell_type": "code",
   "execution_count": null,
   "metadata": {
    "collapsed": true
   },
   "outputs": [],
   "source": []
  }
 ],
 "metadata": {
  "kernelspec": {
   "display_name": "Python 3",
   "language": "python",
   "name": "python3"
  },
  "language_info": {
   "codemirror_mode": {
    "name": "ipython",
    "version": 3
   },
   "file_extension": ".py",
   "mimetype": "text/x-python",
   "name": "python",
   "nbconvert_exporter": "python",
   "pygments_lexer": "ipython3",
   "version": "3.6.2"
  }
 },
 "nbformat": 4,
 "nbformat_minor": 2
}
